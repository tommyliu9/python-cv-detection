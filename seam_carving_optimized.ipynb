{
 "metadata": {
  "language_info": {
   "codemirror_mode": {
    "name": "ipython",
    "version": 3
   },
   "file_extension": ".py",
   "mimetype": "text/x-python",
   "name": "python",
   "nbconvert_exporter": "python",
   "pygments_lexer": "ipython3",
   "version": "3.7.5-final"
  },
  "orig_nbformat": 2,
  "kernelspec": {
   "name": "Python 3.7.5 64-bit",
   "display_name": "Python 3.7.5 64-bit",
   "metadata": {
    "interpreter": {
     "hash": "aee8b7b246df8f9039afb4144a1f6fd8d2ca17a180786b69acc140d282b71a49"
    }
   }
  }
 },
 "nbformat": 4,
 "nbformat_minor": 2,
 "cells": [
  {
   "cell_type": "code",
   "execution_count": 2,
   "metadata": {},
   "outputs": [],
   "source": [
    "import matplotlib.pyplot as plt\n",
    "import matplotlib.image as mpimg\n",
    "import numpy as np\n",
    "import math\n",
    "import png\n",
    "from PIL import Image\n",
    "import cv2\n",
    "import cv2 as cv2\n",
    "from numpy.matrixlib.defmatrix import matrix\n",
    "from numba import jit, prange"
   ]
  },
  {
   "cell_type": "code",
   "execution_count": 14,
   "metadata": {},
   "outputs": [],
   "source": [
    "img = cv2.imread(\"./ex1.jpg\")\n"
   ]
  },
  {
   "cell_type": "code",
   "execution_count": null,
   "metadata": {},
   "outputs": [],
   "source": [
    "def getGradient(image):\n",
    "    # Normalize Sobel\n",
    "    img = cv2.cvtColor(image, cv2.COLOR_BGR2GRAY)\n",
    "\n",
    "    Gx = cv2.Sobel(img, cv2.CV_64F, 1, 0, ksize=1)\n",
    "    Gy = cv2.Sobel(img, cv2.CV_64F, 0, 1, ksize=1)\n",
    "    return np.sqrt(np.square(Gx) + np.square(Gy))\n",
    "\n",
    "\n",
    "@jit(nopython=True)\n",
    "# optimizing the bottom up recursive with parallel programming\n",
    "def computeM(g):\n",
    "    m = np.zeros(shape=(g.shape[0], g.shape[1]), dtype=np.float64)\n",
    "    m[g.shape[0]-1] = np.copy(g[g.shape[0]-1])\n",
    "    f = True\n",
    "    for i in prange(g.shape[0]-2, -1, -1):\n",
    "        for col in prange(0, g.shape[1]):\n",
    "            val = [m[i+1, col]]\n",
    "            if (col > 0):\n",
    "                val.append(m[i+1, col-1])\n",
    "            if (col < g.shape[1]-1):\n",
    "                val.append(m[i+1, col+1])\n",
    "            m[i, col] = (min(val) + g[i, col])\n",
    "    return m\n",
    "\n",
    "\n",
    "def constructImage(img, m):\n",
    "    copy_img = np.copy(img)\n",
    "    row = 0\n",
    "    parent = np.array([row, np.argmin(m[row])])\n",
    "    new_image = np.zeros((img.shape[0], img.shape[1]-1, 3), dtype=np.uint8)\n",
    "    what = np.delete(copy_img[0], np.argmin(m[row]), axis=0)\n",
    "    new_image[0, ] = what\n",
    "    while(row < img.shape[0]-1):\n",
    "        y = parent[0]\n",
    "        x = parent[1]\n",
    "        directions = [(y+1, x)]\n",
    "        mins = [m[y+1, x]]\n",
    "\n",
    "        if x > 0:\n",
    "            directions.append((y+1, x-1))\n",
    "            mins.append(m[y+1, x-1])\n",
    "        if x < img.shape[1]-1:\n",
    "            directions.append((y+1, x+1))\n",
    "            mins.append(m[y+1, x+1])\n",
    "        index = np.argmin(np.array(mins))\n",
    "        parent = directions[index]\n",
    "        row = row + 1\n",
    "        new_image[row] = np.delete(copy_img[row], parent[1], axis=0)\n",
    "    copy_img = new_image\n",
    "    return copy_img\n",
    "\n",
    "\n",
    "def seam_carve(img, y, x):\n",
    "\n",
    "    rows = img.shape[0]\n",
    "    cols = img.shape[1]\n",
    "    num_iterations_x = cols - x\n",
    "    num_iterations_y = rows - y\n",
    "    for i in range(num_iterations_x):\n",
    "        g = getGradient(img)\n",
    "        m = computeM(g)\n",
    "        img = constructImage(img, m)\n",
    "        print(img.shape)\n",
    "    if (num_iterations_y > 0):\n",
    "        img = img.transpose(1, 0, 2)\n",
    "\n",
    "    for i in range(num_iterations_y):\n",
    "        g = getGradient(img)\n",
    "        m = computeM(g)\n",
    "        img = constructImage(img, m)\n",
    "        print(img.shape)\n",
    "\n",
    "    if (num_iterations_y > 0):\n",
    "        img = img.transpose(1, 0, 2)\n",
    "\n",
    "    return img"
   ]
  },
  {
   "source": [],
   "cell_type": "markdown",
   "metadata": {}
  },
  {
   "cell_type": "code",
   "execution_count": null,
   "metadata": {},
   "outputs": [],
   "source": [
    "carved_img = seam_carve(img, 968,957)"
   ]
  },
  {
   "cell_type": "code",
   "execution_count": 8,
   "metadata": {},
   "outputs": [],
   "source": [
    "height = carved_img.shape[0]\n",
    "width = carved_img.shape[1]\n",
    "im = cv2.cvtColor(carved_img, cv2.COLOR_BGR2RGB)\n",
    "\n",
    "im = Image.fromarray(im,\"RGB\")\n",
    "im.save(\"example1.png\")\n",
    "\n"
   ]
  },
  {
   "cell_type": "code",
   "execution_count": 4,
   "metadata": {},
   "outputs": [
    {
     "output_type": "stream",
     "name": "stdout",
     "text": [
      "[[   0.           50.           16.         ...  114.\n",
      "    88.            0.        ]\n",
      " [ 214.          202.05444811  173.44163283 ...   86.83317338\n",
      "    92.08691547   64.        ]\n",
      " [ 152.          148.86235253  167.20047847 ...   42.94182111\n",
      "    76.94153625   32.        ]\n",
      " ...\n",
      " [ 624.          546.60040249  480.01041655 ... 1343.52744669\n",
      "  1102.15969805  894.        ]\n",
      " [ 342.          184.2009772   536.27791303 ... 1008.19541757\n",
      "   760.59187479  342.        ]\n",
      " [   0.          216.          510.         ...  778.\n",
      "   728.            0.        ]]\n",
      "[[170933.47023608 170954.8574208  170903.01141773 ...  79331.21875804\n",
      "   79346.30941872  79258.30941872]\n",
      " [170975.84544069 170933.47023608 170904.8574208  ...  79274.09429583\n",
      "   79286.39633418  79258.30941872]\n",
      " [170906.69377764 170761.84544069 170731.41578797 ...  79213.09333069\n",
      "   79239.25095497  79194.30941872]\n",
      " ...\n",
      " [   808.2009772     730.80137968    664.21139375 ...   2104.11932148\n",
      "    1444.15969805   1236.        ]\n",
      " [   342.            184.2009772     692.27791303 ...   1152.19541757\n",
      "     760.59187479    342.        ]\n",
      " [     0.            216.            510.         ...    778.\n",
      "     728.              0.        ]]\n"
     ]
    }
   ],
   "source": [
    "g = getGradient(img)\n",
    "print(g)\n",
    "m = computeM(g)\n",
    "print(m)"
   ]
  },
  {
   "source": [],
   "cell_type": "markdown",
   "metadata": {}
  },
  {
   "source": [],
   "cell_type": "markdown",
   "metadata": {}
  },
  {
   "cell_type": "code",
   "execution_count": 5,
   "metadata": {},
   "outputs": [
    {
     "output_type": "error",
     "ename": "ValueError",
     "evalue": "too many values to unpack (expected 2)",
     "traceback": [
      "\u001b[0;31m---------------------------------------------------------------------------\u001b[0m",
      "\u001b[0;31mValueError\u001b[0m                                Traceback (most recent call last)",
      "\u001b[0;32m<ipython-input-5-4ee2dc3fda4a>\u001b[0m in \u001b[0;36m<module>\u001b[0;34m\u001b[0m\n\u001b[1;32m      1\u001b[0m \u001b[0mex1\u001b[0m \u001b[0;34m=\u001b[0m \u001b[0mcv2\u001b[0m\u001b[0;34m.\u001b[0m\u001b[0mimread\u001b[0m\u001b[0;34m(\u001b[0m\u001b[0;34m\"./ex1.jpg\"\u001b[0m\u001b[0;34m)\u001b[0m\u001b[0;34m\u001b[0m\u001b[0;34m\u001b[0m\u001b[0m\n\u001b[0;32m----> 2\u001b[0;31m \u001b[0my\u001b[0m\u001b[0;34m,\u001b[0m\u001b[0mx\u001b[0m \u001b[0;34m=\u001b[0m \u001b[0mex1\u001b[0m\u001b[0;34m.\u001b[0m\u001b[0mshape\u001b[0m\u001b[0;34m\u001b[0m\u001b[0;34m\u001b[0m\u001b[0m\n\u001b[0m\u001b[1;32m      3\u001b[0m \u001b[0mcropped_ex1\u001b[0m \u001b[0;34m=\u001b[0m \u001b[0mex1\u001b[0m\u001b[0;34m[\u001b[0m\u001b[0;36m0\u001b[0m\u001b[0;34m:\u001b[0m\u001b[0;36m968\u001b[0m\u001b[0;34m,\u001b[0m \u001b[0;36m0\u001b[0m\u001b[0;34m:\u001b[0m\u001b[0;36m957\u001b[0m\u001b[0;34m]\u001b[0m\u001b[0;34m\u001b[0m\u001b[0;34m\u001b[0m\u001b[0m\n\u001b[1;32m      4\u001b[0m \u001b[0mcv2\u001b[0m\u001b[0;34m.\u001b[0m\u001b[0mimshow\u001b[0m\u001b[0;34m(\u001b[0m\u001b[0;34m\"cropped\"\u001b[0m\u001b[0;34m,\u001b[0m\u001b[0mcropped_ex1\u001b[0m\u001b[0;34m)\u001b[0m\u001b[0;34m\u001b[0m\u001b[0;34m\u001b[0m\u001b[0m\n",
      "\u001b[0;31mValueError\u001b[0m: too many values to unpack (expected 2)"
     ]
    }
   ],
   "source": [
    "ex1 = cv2.imread(\"./ex1.jpg\")\n",
    "cropped_ex1 = ex1[0:968, 0:957]\n",
    "cv2.imshow(\"cropped\",cropped_ex1)"
   ]
  },
  {
   "cell_type": "code",
   "execution_count": null,
   "metadata": {},
   "outputs": [],
   "source": []
  }
 ]
}